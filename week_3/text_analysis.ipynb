{
 "cells": [
  {
   "cell_type": "code",
   "execution_count": 45,
   "metadata": {
    "collapsed": true
   },
   "outputs": [],
   "source": [
    "import numpy as np\n",
    "from sklearn import datasets\n",
    "from sklearn.model_selection import KFold, GridSearchCV\n",
    "from sklearn.svm import SVC \n",
    "from sklearn.feature_extraction.text import TfidfVectorizer as tfidf"
   ]
  },
  {
   "cell_type": "code",
   "execution_count": 148,
   "metadata": {},
   "outputs": [],
   "source": [
    "newsgroups = datasets.fetch_20newsgroups(subset='all', categories=['alt.atheism', 'sci.space'])"
   ]
  },
  {
   "cell_type": "code",
   "execution_count": 149,
   "metadata": {},
   "outputs": [],
   "source": [
    "vectorizer = tfidf()\n",
    "X = vectorizer.fit_transform(raw_documents=newsgroups.data)\n",
    "y = newsgroups.target"
   ]
  },
  {
   "cell_type": "code",
   "execution_count": 150,
   "metadata": {},
   "outputs": [],
   "source": [
    "search_grid = {'C': np.power(10.0, np.arange(-5,6))}"
   ]
  },
  {
   "cell_type": "code",
   "execution_count": 151,
   "metadata": {},
   "outputs": [
    {
     "data": {
      "text/plain": [
       "GridSearchCV(cv=KFold(n_splits=5, random_state=241, shuffle=True),\n",
       "       error_score='raise',\n",
       "       estimator=SVC(C=1.0, cache_size=200, class_weight=None, coef0=0.0,\n",
       "  decision_function_shape=None, degree=3, gamma='auto', kernel='linear',\n",
       "  max_iter=-1, probability=False, random_state=241, shrinking=True,\n",
       "  tol=0.001, verbose=False),\n",
       "       fit_params={}, iid=True, n_jobs=1,\n",
       "       param_grid={'C': array([  1.00000e-05,   1.00000e-04,   1.00000e-03,   1.00000e-02,\n",
       "         1.00000e-01,   1.00000e+00,   1.00000e+01,   1.00000e+02,\n",
       "         1.00000e+03,   1.00000e+04,   1.00000e+05])},\n",
       "       pre_dispatch='2*n_jobs', refit=True, return_train_score=True,\n",
       "       scoring='accuracy', verbose=0)"
      ]
     },
     "execution_count": 151,
     "metadata": {},
     "output_type": "execute_result"
    }
   ],
   "source": [
    "folds = KFold(n_splits=5, shuffle=True, random_state=241)\n",
    "clf = SVC(kernel='linear', random_state=241)\n",
    "gs = GridSearchCV(clf, search_grid, scoring='accuracy', cv=folds)\n",
    "gs.fit(X, y)"
   ]
  },
  {
   "cell_type": "code",
   "execution_count": 59,
   "metadata": {},
   "outputs": [
    {
     "name": "stdout",
     "output_type": "stream",
     "text": [
      "{'C': 1.0000000000000001e-05} 0.552631578947\n",
      "{'C': 0.0001} 0.552631578947\n",
      "{'C': 0.001} 0.552631578947\n",
      "{'C': 0.01} 0.552631578947\n",
      "{'C': 0.10000000000000001} 0.950167973124\n",
      "{'C': 1.0} 0.993281075028\n",
      "{'C': 10.0} 0.993281075028\n",
      "{'C': 100.0} 0.993281075028\n",
      "{'C': 1000.0} 0.993281075028\n",
      "{'C': 10000.0} 0.993281075028\n",
      "{'C': 100000.0} 0.993281075028\n"
     ]
    },
    {
     "name": "stderr",
     "output_type": "stream",
     "text": [
      "/opt/anaconda3/lib/python3.6/site-packages/sklearn/model_selection/_search.py:667: DeprecationWarning: The grid_scores_ attribute was deprecated in version 0.18 in favor of the more elaborate cv_results_ attribute. The grid_scores_ attribute will not be available from 0.20\n",
      "  DeprecationWarning)\n"
     ]
    }
   ],
   "source": [
    "for a in gs.grid_scores_:\n",
    "    print(a.parameters, a.mean_validation_score)"
   ]
  },
  {
   "cell_type": "code",
   "execution_count": 157,
   "metadata": {},
   "outputs": [
    {
     "name": "stdout",
     "output_type": "stream",
     "text": [
      "  (0, 11098)\t0.113315317878\n",
      "  (0, 6775)\t0.0513432082411\n",
      "  (0, 5107)\t0.0544519626112\n",
      "  (0, 98)\t0.059766413309\n",
      "  (0, 27042)\t0.104718642966\n",
      "  (0, 22622)\t0.104718642966\n",
      "  (0, 6135)\t0.104718642966\n",
      "  (0, 27130)\t0.00684318140366\n",
      "  (0, 27083)\t0.00684318140366\n",
      "  (0, 26026)\t0.00721866056204\n",
      "  (0, 23036)\t0.00620129554273\n",
      "  (0, 22982)\t0.00721866056204\n",
      "  (0, 22762)\t0.00721866056204\n",
      "  (0, 22739)\t0.00721866056204\n",
      "  (0, 22595)\t0.00721866056204\n",
      "  (0, 21945)\t0.00684318140366\n",
      "  (0, 20801)\t0.0144373211241\n",
      "  (0, 20800)\t0.0479022698256\n",
      "  (0, 20042)\t0.0216559816861\n",
      "  (0, 16400)\t0.0166782290454\n",
      "  (0, 16224)\t0.00721866056204\n",
      "  (0, 13928)\t0.00721866056204\n",
      "  (0, 11716)\t0.00721866056204\n",
      "  (0, 10127)\t0.00684318140366\n",
      "  (0, 8938)\t0.00721866056204\n",
      "  :\t:\n",
      "  (0, 9935)\t0.324839975194\n",
      "  (0, 9711)\t-0.0951687122427\n",
      "  (0, 9622)\t0.0399088130115\n",
      "  (0, 9368)\t-0.311250533821\n",
      "  (0, 9107)\t-0.157524596754\n",
      "  (0, 9034)\t0.144841345667\n",
      "  (0, 9009)\t-0.315049193508\n",
      "  (0, 8498)\t0.0111960110243\n",
      "  (0, 7951)\t-0.0200462590056\n",
      "  (0, 7418)\t-0.162634545264\n",
      "  (0, 7316)\t-0.0872790112064\n",
      "  (0, 6702)\t0.441818285927\n",
      "  (0, 5653)\t-0.155915123743\n",
      "  (0, 5621)\t-0.325269090529\n",
      "  (0, 5596)\t-0.501616320011\n",
      "  (0, 5563)\t0.0279017528158\n",
      "  (0, 4796)\t-0.302351221345\n",
      "  (0, 4455)\t-0.15490289509\n",
      "  (0, 4241)\t-0.564363118987\n",
      "  (0, 4059)\t-0.0350470076576\n",
      "  (0, 4040)\t-0.211759629633\n",
      "  (0, 3837)\t-0.287742272296\n",
      "  (0, 3669)\t-0.237285503343\n",
      "  (0, 3601)\t0.184611243628\n",
      "  (0, 335)\t-0.241001804518\n"
     ]
    }
   ],
   "source": [
    "clf = SVC(C=1, kernel='linear').fit(X,y)\n",
    "print(clf.coef_)"
   ]
  },
  {
   "cell_type": "code",
   "execution_count": 163,
   "metadata": {},
   "outputs": [],
   "source": [
    "coefficients = np.absolute(clf.coef_.toarray())"
   ]
  },
  {
   "cell_type": "code",
   "execution_count": 164,
   "metadata": {},
   "outputs": [
    {
     "name": "stdout",
     "output_type": "stream",
     "text": [
      "idx:24019, weight:2.6631647884797105, word:space\n",
      "idx:12871, weight:1.9203794002294938, word:god\n",
      "idx:5088, weight:1.2546899512384038, word:atheism\n",
      "idx:5093, weight:1.2491800073760075, word:atheists\n",
      "idx:17802, weight:1.2016111817520696, word:moon\n",
      "idx:23673, weight:1.1801315951388633, word:sky\n",
      "idx:21850, weight:1.13908083789883, word:religion\n",
      "idx:5776, weight:1.130612344664901, word:bible\n",
      "idx:15606, weight:1.0970936466401482, word:keith\n",
      "idx:22936, weight:1.0293069271856938, word:sci\n"
     ]
    }
   ],
   "source": [
    "words = []\n",
    "for i in range(0,10):\n",
    "    max_idx = coefficients.argmax()\n",
    "    words.append(vectorizer.get_feature_names()[max_idx])\n",
    "    print('idx:{0}, weight:{1}, word:{2}'.format(max_idx, coefficients[0,max_idx], vectorizer.get_feature_names()[max_idx]))\n",
    "    coefficients[0, max_idx] = -1"
   ]
  },
  {
   "cell_type": "code",
   "execution_count": 160,
   "metadata": {},
   "outputs": [],
   "source": [
    "words.sort()\n",
    "f = open('ans.txt', 'w')\n",
    "for word in words:\n",
    "    f.write('{0} '.format(word))\n",
    "f.close()"
   ]
  },
  {
   "cell_type": "code",
   "execution_count": null,
   "metadata": {
    "collapsed": true
   },
   "outputs": [],
   "source": []
  }
 ],
 "metadata": {
  "kernelspec": {
   "display_name": "Python 3",
   "language": "python",
   "name": "python3"
  },
  "language_info": {
   "codemirror_mode": {
    "name": "ipython",
    "version": 3
   },
   "file_extension": ".py",
   "mimetype": "text/x-python",
   "name": "python",
   "nbconvert_exporter": "python",
   "pygments_lexer": "ipython3",
   "version": "3.6.1"
  }
 },
 "nbformat": 4,
 "nbformat_minor": 2
}
