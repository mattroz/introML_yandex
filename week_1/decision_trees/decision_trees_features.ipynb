{
 "cells": [
  {
   "cell_type": "code",
   "execution_count": 148,
   "metadata": {},
   "outputs": [],
   "source": [
    "from sklearn.tree import DecisionTreeClassifier\n",
    "import numpy as np\n",
    "import matplotlib.pyplot as plt\n",
    "import pandas as pd"
   ]
  },
  {
   "cell_type": "code",
   "execution_count": 149,
   "metadata": {
    "collapsed": true
   },
   "outputs": [],
   "source": [
    "# get data and target data (binary attribute)\n",
    "data = pd.read_csv('titanic.csv', usecols=['Pclass', 'Fare', 'Age', 'Sex', 'Survived'])\n",
    "#data_target = pd.read_csv('titanic.csv', usecols=['Survived'])"
   ]
  },
  {
   "cell_type": "code",
   "execution_count": 150,
   "metadata": {},
   "outputs": [],
   "source": [
    "# replace string values with the binary attribute^ 1 - male, 0 - female\n",
    "data['Sex'].replace('female', 0, inplace=True)\n",
    "data['Sex'].replace('male', 1 , inplace=True)"
   ]
  },
  {
   "cell_type": "code",
   "execution_count": 151,
   "metadata": {
    "scrolled": true
   },
   "outputs": [
    {
     "name": "stdout",
     "output_type": "stream",
     "text": [
      "     Survived\n",
      "0           0\n",
      "1           1\n",
      "2           1\n",
      "3           1\n",
      "4           0\n",
      "6           0\n",
      "7           0\n",
      "8           1\n",
      "9           1\n",
      "10          1\n",
      "11          1\n",
      "12          0\n",
      "13          0\n",
      "14          0\n",
      "15          1\n",
      "16          0\n",
      "18          0\n",
      "20          0\n",
      "21          1\n",
      "22          1\n",
      "23          1\n",
      "24          0\n",
      "25          1\n",
      "27          0\n",
      "30          0\n",
      "33          0\n",
      "34          0\n",
      "35          0\n",
      "37          0\n",
      "38          0\n",
      "..        ...\n",
      "856         1\n",
      "857         1\n",
      "858         1\n",
      "860         0\n",
      "861         0\n",
      "862         1\n",
      "864         0\n",
      "865         1\n",
      "866         1\n",
      "867         0\n",
      "869         1\n",
      "870         0\n",
      "871         1\n",
      "872         0\n",
      "873         0\n",
      "874         1\n",
      "875         1\n",
      "876         0\n",
      "877         0\n",
      "879         1\n",
      "880         1\n",
      "881         0\n",
      "882         0\n",
      "883         0\n",
      "884         0\n",
      "885         0\n",
      "886         0\n",
      "887         1\n",
      "889         1\n",
      "890         0\n",
      "\n",
      "[714 rows x 1 columns]\n"
     ]
    }
   ],
   "source": [
    "# delete missing data (axis = {0 - horizontal, 1 - vertical})\n",
    "data = data.dropna(axis=0)\n",
    "data_x = data[['Pclass', 'Fare', 'Age', 'Sex']]\n",
    "data_y = data[['Survived']]\n",
    "print(data_y)"
   ]
  },
  {
   "cell_type": "code",
   "execution_count": 152,
   "metadata": {},
   "outputs": [
    {
     "data": {
      "text/plain": [
       "DecisionTreeClassifier(class_weight=None, criterion='gini', max_depth=None,\n",
       "            max_features=None, max_leaf_nodes=None,\n",
       "            min_impurity_split=1e-07, min_samples_leaf=1,\n",
       "            min_samples_split=2, min_weight_fraction_leaf=0.0,\n",
       "            presort=False, random_state=241, splitter='best')"
      ]
     },
     "execution_count": 152,
     "metadata": {},
     "output_type": "execute_result"
    }
   ],
   "source": [
    "# train\n",
    "dtree_clf = DecisionTreeClassifier(random_state=241)\n",
    "dtree_clf.fit(data_x, data_y)"
   ]
  },
  {
   "cell_type": "code",
   "execution_count": 172,
   "metadata": {},
   "outputs": [
    {
     "name": "stdout",
     "output_type": "stream",
     "text": [
      "[ 0.14000522  0.2560461 ]\n",
      "['Pclass' 'Age']\n",
      "['Fare', 'Sex']\n"
     ]
    }
   ],
   "source": [
    "# get the most important features\n",
    "importances = dtree_clf.feature_importances_\n",
    "feature_names = data_x.columns.values\n",
    "most_important_features = []\n",
    "\n",
    "for x in range(2):\n",
    "    max_idx = np.argmax(importances)\n",
    "    most_important_features.append(feature_names[max_idx])\n",
    "    importances = np.delete(importances, max_idx)\n",
    "    feature_names = np.delete(feature_names, max_idx)\n",
    "\n",
    "print(importances)\n",
    "print(feature_names)\n",
    "print(most_important_features)"
   ]
  },
  {
   "cell_type": "code",
   "execution_count": 176,
   "metadata": {
    "collapsed": true
   },
   "outputs": [],
   "source": [
    "# write features' names to file\n",
    "file = open('features_importance.txt', 'w')\n",
    "file.write(most_important_features[0] + ' ')\n",
    "file.write(most_important_features[1])\n",
    "file.close()"
   ]
  },
  {
   "cell_type": "code",
   "execution_count": null,
   "metadata": {
    "collapsed": true
   },
   "outputs": [],
   "source": []
  }
 ],
 "metadata": {
  "kernelspec": {
   "display_name": "Python 3",
   "language": "python",
   "name": "python3"
  },
  "language_info": {
   "codemirror_mode": {
    "name": "ipython",
    "version": 3
   },
   "file_extension": ".py",
   "mimetype": "text/x-python",
   "name": "python",
   "nbconvert_exporter": "python",
   "pygments_lexer": "ipython3",
   "version": "3.6.1"
  }
 },
 "nbformat": 4,
 "nbformat_minor": 2
}
