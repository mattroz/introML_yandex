{
 "cells": [
  {
   "cell_type": "code",
   "execution_count": 34,
   "metadata": {
    "collapsed": true
   },
   "outputs": [],
   "source": [
    "# Search for optimal p in Minkowski metric in kNN regressor\n",
    "import numpy as np\n",
    "import pandas as pd\n",
    "from sklearn.preprocessing import StandardScaler, scale\n",
    "from sklearn.datasets import load_boston\n",
    "from sklearn.model_selection import cross_val_score, KFold\n",
    "from sklearn.neighbors import KNeighborsRegressor"
   ]
  },
  {
   "cell_type": "code",
   "execution_count": 35,
   "metadata": {},
   "outputs": [],
   "source": [
    "# Load data\n",
    "boston = load_boston()\n",
    "data = scale(boston.data)"
   ]
  },
  {
   "cell_type": "code",
   "execution_count": 28,
   "metadata": {},
   "outputs": [],
   "source": [
    "# Init parameters\n",
    "param = np.linspace(1,10,200)\n",
    "# Cross validation will use 5 folds\n",
    "kf = KFold(n_splits=5, shuffle=True, random_state=42)\n",
    "score = []"
   ]
  },
  {
   "cell_type": "code",
   "execution_count": null,
   "metadata": {
    "collapsed": true
   },
   "outputs": [],
   "source": [
    "# Start search for the optimal p\n",
    "for _p in param:\n",
    "    knn = KNeighborsRegressor(n_neighbors=5, weights='distance', metric='minkowski', p=_p)\n",
    "    current_score = np.mean(cross_val_score(knn, data, boston.target, \n",
    "                                            scoring='neg_mean_squared_error', cv=kf))\n",
    "    score.append(current_score)"
   ]
  },
  {
   "cell_type": "code",
   "execution_count": 39,
   "metadata": {},
   "outputs": [
    {
     "name": "stdout",
     "output_type": "stream",
     "text": [
      "Max score: -16.050\n",
      "p = 1.045\n"
     ]
    }
   ],
   "source": [
    "print(\"Max score: %.3f\\np = %.3f\" % (np.max(score), param[np.argmax(score)+1]))"
   ]
  }
 ],
 "metadata": {
  "kernelspec": {
   "display_name": "Python 3",
   "language": "python",
   "name": "python3"
  },
  "language_info": {
   "codemirror_mode": {
    "name": "ipython",
    "version": 3
   },
   "file_extension": ".py",
   "mimetype": "text/x-python",
   "name": "python",
   "nbconvert_exporter": "python",
   "pygments_lexer": "ipython3",
   "version": "3.6.1"
  }
 },
 "nbformat": 4,
 "nbformat_minor": 2
}
